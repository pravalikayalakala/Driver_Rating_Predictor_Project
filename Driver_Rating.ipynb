{
 "cells": [
  {
   "cell_type": "code",
   "execution_count": 1,
   "id": "76d989a0-fdcf-41f1-acc4-6775a5091d96",
   "metadata": {},
   "outputs": [
    {
     "name": "stdout",
     "output_type": "stream",
     "text": [
      "✅ Model trained and saved as model.pkl\n"
     ]
    }
   ],
   "source": [
    "import pandas as pd\n",
    "from sklearn.model_selection import train_test_split\n",
    "from sklearn.ensemble import RandomForestRegressor\n",
    "import joblib\n",
    "\n",
    "# Load the dataset\n",
    "df = pd.read_csv('driver_rating_data.csv')\n",
    "\n",
    "# Encode categorical variables\n",
    "df['Time_of_Day'] = df['Time_of_Day'].astype('category').cat.codes\n",
    "df['Traffic'] = df['Traffic'].astype('category').cat.codes\n",
    "df['Complaints'] = df['Complaints'].map({'Yes': 1, 'No': 0})\n",
    "\n",
    "# Drop unnecessary columns\n",
    "df = df.drop(columns=['Trip_ID', 'Driver_ID'])\n",
    "\n",
    "# Train-test split\n",
    "X = df.drop('Final_Rating', axis=1)\n",
    "y = df['Final_Rating']\n",
    "X_train, X_test, y_train, y_test = train_test_split(X, y, test_size=0.2, random_state=42)\n",
    "\n",
    "# Train the model\n",
    "model = RandomForestRegressor(n_estimators=100, random_state=42)\n",
    "model.fit(X_train, y_train)\n",
    "\n",
    "# Save the model\n",
    "joblib.dump(model, 'model.pkl')\n",
    "print(\"✅ Model trained and saved as model.pkl\")\n"
   ]
  },
  {
   "cell_type": "code",
   "execution_count": null,
   "id": "10a60dfa-6cba-4a5a-92f0-6d5378bcb3b9",
   "metadata": {},
   "outputs": [],
   "source": []
  }
 ],
 "metadata": {
  "kernelspec": {
   "display_name": "Python 3 (ipykernel)",
   "language": "python",
   "name": "python3"
  },
  "language_info": {
   "codemirror_mode": {
    "name": "ipython",
    "version": 3
   },
   "file_extension": ".py",
   "mimetype": "text/x-python",
   "name": "python",
   "nbconvert_exporter": "python",
   "pygments_lexer": "ipython3",
   "version": "3.11.5"
  }
 },
 "nbformat": 4,
 "nbformat_minor": 5
}
